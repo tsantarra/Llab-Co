{
 "cells": [
  {
   "cell_type": "code",
   "execution_count": 1,
   "metadata": {},
   "outputs": [
    {
     "name": "stderr",
     "output_type": "stream",
     "text": [
      "C:\\Python35\\lib\\importlib\\_bootstrap.py:222: RuntimeWarning: numpy.dtype size changed, may indicate binary incompatibility. Expected 96, got 88\n",
      "  return f(*args, **kwds)\n"
     ]
    }
   ],
   "source": [
    "from json_log_reader import *"
   ]
  },
  {
   "cell_type": "code",
   "execution_count": 2,
   "metadata": {},
   "outputs": [],
   "source": [
    "df = read(data_file)"
   ]
  },
  {
   "cell_type": "code",
   "execution_count": 3,
   "metadata": {},
   "outputs": [
    {
     "data": {
      "text/plain": [
       "'login.osgconnect.net/out/data-1.log'"
      ]
     },
     "execution_count": 3,
     "metadata": {},
     "output_type": "execute_result"
    }
   ],
   "source": [
    "data_file\n"
   ]
  },
  {
   "cell_type": "code",
   "execution_count": 4,
   "metadata": {},
   "outputs": [],
   "source": [
    "df = read(data_file)"
   ]
  },
  {
   "cell_type": "code",
   "execution_count": null,
   "metadata": {},
   "outputs": [
    {
     "name": "stdout",
     "output_type": "stream",
     "text": [
      "        message\n",
      "0  Begin Trial!\n",
      "1    Query Step\n",
      "2    Query Step\n",
      "3   End of Comm\n",
      "4     End Trial\n"
     ]
    }
   ],
   "source": [
    "print_five(df)"
   ]
  },
  {
   "cell_type": "code",
   "execution_count": 6,
   "metadata": {},
   "outputs": [],
   "source": [
    "g = df.groupby(['levelname','message'])"
   ]
  },
  {
   "cell_type": "code",
   "execution_count": 7,
   "metadata": {},
   "outputs": [
    {
     "name": "stdout",
     "output_type": "stream",
     "text": [
      "('INFO', 'Begin Trial!')\n",
      "   Trial levelname       message                  timestamp  \\\n",
      "0    0.0      INFO  Begin Trial! 2018-08-05 21:31:28.820070   \n",
      "5    1.0      INFO  Begin Trial! 2018-08-05 21:42:06.036568   \n",
      "\n",
      "   comm_branch_factor  comm_cost  comm_iterations  experience  heuristic_id  \\\n",
      "0                   2          1                5         100             0   \n",
      "5                   2          1                5         100             0   \n",
      "\n",
      "   plan_iterations  process_no  scenario_id  trials  \n",
      "0              100           1            0       2  \n",
      "5              100           1            0       2  \n",
      "('INFO', 'End Trial')\n",
      "    Trial levelname    message                  timestamp  comm_branch_factor  \\\n",
      "4     0.0      INFO  End Trial 2018-08-05 21:42:01.033737                   2   \n",
      "12    1.0      INFO  End Trial 2018-08-05 21:57:26.190019                   2   \n",
      "\n",
      "    comm_cost  comm_iterations  experience  heuristic_id  plan_iterations  \\\n",
      "4           1                5         100             0              100   \n",
      "12          1                5         100             0              100   \n",
      "\n",
      "    process_no  scenario_id  trials  \n",
      "4            1            0       2  \n",
      "12           1            0       2  \n",
      "('INFO', 'End of Comm')\n",
      "       New EV New action levelname      message                  timestamp  \\\n",
      "3    0.000000      \"End\"      INFO  End of Comm 2018-08-05 21:42:01.006375   \n",
      "8   43.376515          5      INFO  End of Comm 2018-08-05 21:56:58.194456   \n",
      "11  11.500765          4      INFO  End of Comm 2018-08-05 21:57:26.161945   \n",
      "\n",
      "    comm_branch_factor  comm_cost  comm_iterations  experience  heuristic_id  \\\n",
      "3                    2          1                5         100             0   \n",
      "8                    2          1                5         100             0   \n",
      "11                   2          1                5         100             0   \n",
      "\n",
      "    plan_iterations  process_no  scenario_id  trials  \n",
      "3               100           1            0       2  \n",
      "8               100           1            0       2  \n",
      "11              100           1            0       2  \n",
      "('INFO', 'Query Step')\n",
      "                                                Query Response levelname  \\\n",
      "1              {\"Complete\": false, \"Conditions\": [2]}        1      INFO   \n",
      "2           {\"Complete\": false, \"Conditions\": [3, 6]}        5      INFO   \n",
      "6              {\"Complete\": false, \"Conditions\": [3]}        0      INFO   \n",
      "7           {\"Complete\": false, \"Conditions\": [3, 6]}        5      INFO   \n",
      "9   {\"Complete\": false, \"Conditions\": [1, 2, 3, 4,...        0      INFO   \n",
      "10  {\"Complete\": false, \"Conditions\": [0, 1, 2, 3,...    \"End\"      INFO   \n",
      "\n",
      "       message                  timestamp  comm_branch_factor  comm_cost  \\\n",
      "1   Query Step 2018-08-05 21:41:50.050622                   2          1   \n",
      "2   Query Step 2018-08-05 21:41:50.070339                   2          1   \n",
      "6   Query Step 2018-08-05 21:56:50.623642                   2          1   \n",
      "7   Query Step 2018-08-05 21:56:50.626111                   2          1   \n",
      "9   Query Step 2018-08-05 21:57:25.833380                   2          1   \n",
      "10  Query Step 2018-08-05 21:57:25.836463                   2          1   \n",
      "\n",
      "    comm_iterations  experience  heuristic_id  plan_iterations  process_no  \\\n",
      "1                 5         100             0              100           1   \n",
      "2                 5         100             0              100           1   \n",
      "6                 5         100             0              100           1   \n",
      "7                 5         100             0              100           1   \n",
      "9                 5         100             0              100           1   \n",
      "10                5         100             0              100           1   \n",
      "\n",
      "    scenario_id  trials  \n",
      "1             0       2  \n",
      "2             0       2  \n",
      "6             0       2  \n",
      "7             0       2  \n",
      "9             0       2  \n",
      "10            0       2  \n"
     ]
    }
   ],
   "source": [
    "for group, group_df in g:\n",
    "    print(group)\n",
    "    print(group_df.dropna(axis=1, how='all'))"
   ]
  },
  {
   "cell_type": "code",
   "execution_count": null,
   "metadata": {},
   "outputs": [],
   "source": []
  }
 ],
 "metadata": {
  "kernelspec": {
   "display_name": "Python 3",
   "language": "python",
   "name": "python3"
  },
  "language_info": {
   "codemirror_mode": {
    "name": "ipython",
    "version": 3
   },
   "file_extension": ".py",
   "mimetype": "text/x-python",
   "name": "python",
   "nbconvert_exporter": "python",
   "pygments_lexer": "ipython3",
   "version": "3.5.2"
  }
 },
 "nbformat": 4,
 "nbformat_minor": 1
}
