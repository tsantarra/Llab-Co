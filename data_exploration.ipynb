{
 "cells": [
  {
   "cell_type": "code",
   "execution_count": 1,
   "metadata": {},
   "outputs": [],
   "source": [
    "from json_log_reader import *"
   ]
  },
  {
   "cell_type": "code",
   "execution_count": 2,
   "metadata": {},
   "outputs": [
    {
     "name": "stdout",
     "output_type": "stream",
     "text": [
      "('INFO', 'Begin Trial!')\n",
      "('INFO', 'End of Comm')\n",
      "('INFO', 'End Trial')\n",
      "('INFO', 'Query Step')\n"
     ]
    }
   ],
   "source": [
    "data_by_message = read_all_files(data_dir)\n",
    "print('\\n'.join(str(group) for group in data_by_message))"
   ]
  },
  {
   "cell_type": "code",
   "execution_count": 3,
   "metadata": {},
   "outputs": [
    {
     "name": "stdout",
     "output_type": "stream",
     "text": [
      "Index(['Query', 'Response', 'Trial', 'levelname', 'message', 'timestamp',\n",
      "       'comm_branch_factor', 'comm_cost', 'comm_iterations', 'experience',\n",
      "       'heuristic_id', 'plan_iterations', 'process_no', 'scenario_id',\n",
      "       'trials'],\n",
      "      dtype='object')\n"
     ]
    }
   ],
   "source": [
    "query_data = data_by_message[('INFO', 'Query Step')]\n",
    "print(query_data.columns)"
   ]
  },
  {
   "cell_type": "code",
   "execution_count": 4,
   "metadata": {},
   "outputs": [
    {
     "name": "stdout",
     "output_type": "stream",
     "text": [
      "Index(['New EV', 'New action', 'Trial', 'levelname', 'message', 'timestamp',\n",
      "       'comm_branch_factor', 'comm_cost', 'comm_iterations', 'experience',\n",
      "       'heuristic_id', 'plan_iterations', 'process_no', 'scenario_id',\n",
      "       'trials'],\n",
      "      dtype='object')\n"
     ]
    }
   ],
   "source": [
    "comm_end_data = data_by_message[('INFO','End of Comm')]\n",
    "print(comm_end_data.columns)"
   ]
  },
  {
   "cell_type": "code",
   "execution_count": 5,
   "metadata": {},
   "outputs": [
    {
     "name": "stdout",
     "output_type": "stream",
     "text": [
      "(100, 2, 1, 0, 1, 2, 0, 100, 2)\n",
      "       New EV  Trial\n",
      "2   31.020827    0.0\n",
      "4    0.000000    0.0\n",
      "8    0.923797    1.0\n",
      "11  16.676503    1.0\n",
      "13  10.195875    1.0\n",
      "(100, 2, 5, 0, 1, 1, 0, 100, 2)\n",
      "        New EV  Trial\n",
      "3   124.573524    0.0\n",
      "6    50.484853    0.0\n",
      "9    22.162713    0.0\n",
      "10    5.250006    0.0\n",
      "11    8.000000    0.0\n",
      "16  108.393333    1.0\n",
      "18    5.714020    1.0\n",
      "(100, 2, 25, 0, 1, 2, 0, 100, 2)\n",
      "        New EV  Trial\n",
      "3   520.236411    0.0\n",
      "7   705.682728    0.0\n",
      "8    10.000000    0.0\n",
      "13  782.130748    1.0\n",
      "17    0.000000    1.0\n",
      "(100, 2, 125, 0, 1, 2, 0, 100, 2)\n",
      "         New EV  Trial\n",
      "4   6515.442730    0.0\n",
      "5      4.444442    0.0\n",
      "11  2043.835489    1.0\n",
      "16  4733.480801    1.0\n",
      "18    23.000001    1.0\n",
      "19     6.000000    1.0\n",
      "(100, 2, 525, 0, 1, 2, 0, 100, 2)\n",
      "          New EV  Trial\n",
      "5   3.820294e+05    0.0\n",
      "9   2.383433e+01    0.0\n",
      "10  6.666667e+00    0.0\n",
      "11  7.000000e+00    0.0\n",
      "17  1.272925e+06    1.0\n",
      "22  0.000000e+00    1.0\n"
     ]
    }
   ],
   "source": [
    "for group, groupdf in comm_end_data.groupby(paramlist):\n",
    "    print(group)\n",
    "    print(groupdf[['New EV', 'Trial']])"
   ]
  },
  {
   "cell_type": "code",
   "execution_count": null,
   "metadata": {},
   "outputs": [],
   "source": []
  }
 ],
 "metadata": {
  "kernelspec": {
   "display_name": "Python 3",
   "language": "python",
   "name": "python3"
  },
  "language_info": {
   "codemirror_mode": {
    "name": "ipython",
    "version": 3
   },
   "file_extension": ".py",
   "mimetype": "text/x-python",
   "name": "python",
   "nbconvert_exporter": "python",
   "pygments_lexer": "ipython3",
   "version": "3.5.2"
  }
 },
 "nbformat": 4,
 "nbformat_minor": 1
}
